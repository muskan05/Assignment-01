{
 "cells": [
  {
   "cell_type": "markdown",
   "metadata": {},
   "source": [
    "Q1"
   ]
  },
  {
   "cell_type": "code",
   "execution_count": 3,
   "metadata": {},
   "outputs": [
    {
     "name": "stdout",
     "output_type": "stream",
     "text": [
      "Value of a: 3\n",
      "value of b: 4\n",
      "Value of a after swapping:  4\n",
      "Value of b after swapping:  3\n"
     ]
    }
   ],
   "source": [
    "#Swapping Two Variables\n",
    "a = int(input('Value of a: '))\n",
    "b = int(input('value of b: '))\n",
    "a = a+b\n",
    "b = a-b\n",
    "a = a-b\n",
    "print('Value of a after swapping: ',a)\n",
    "print('Value of b after swapping: ',b)"
   ]
  },
  {
   "cell_type": "markdown",
   "metadata": {},
   "source": [
    "Q2"
   ]
  },
  {
   "cell_type": "code",
   "execution_count": 5,
   "metadata": {},
   "outputs": [
    {
     "name": "stdout",
     "output_type": "stream",
     "text": [
      "8\n",
      "Number is Even\n"
     ]
    }
   ],
   "source": [
    "#Check Whether A Number Is Even or Odd\n",
    "a = int(input())\n",
    "b = a%2\n",
    "if(b==0):\n",
    "    print('Number is Even')\n",
    "else:\n",
    "    print('Number is Odd')"
   ]
  },
  {
   "cell_type": "markdown",
   "metadata": {},
   "source": [
    "Q3"
   ]
  },
  {
   "cell_type": "code",
   "execution_count": 6,
   "metadata": {},
   "outputs": [
    {
     "name": "stdout",
     "output_type": "stream",
     "text": [
      "Enter number: 9\n",
      "3.0\n"
     ]
    }
   ],
   "source": [
    "#Square Root of A Number\n",
    "import math\n",
    "n = float(input(\"Enter number: \"))\n",
    "print(math.sqrt(n))"
   ]
  },
  {
   "cell_type": "markdown",
   "metadata": {},
   "source": [
    "Q4"
   ]
  },
  {
   "cell_type": "code",
   "execution_count": 7,
   "metadata": {},
   "outputs": [
    {
     "name": "stdout",
     "output_type": "stream",
     "text": [
      "Enter num: 7\n",
      "1\n",
      "2\n",
      "3\n",
      "4\n",
      "5\n",
      "6\n",
      "7\n",
      "7\n",
      "6\n",
      "5\n",
      "4\n",
      "3\n",
      "2\n",
      "1\n"
     ]
    }
   ],
   "source": [
    "#Print Natural Numbers Till n And In Reverse Order\n",
    "n = int(input(\"Enter num: \"))\n",
    "for i in range(1,n+1):\n",
    "    print(i)\n",
    "for i in range(n,0,-1):\n",
    "    print(i)"
   ]
  },
  {
   "cell_type": "markdown",
   "metadata": {},
   "source": [
    "Q5"
   ]
  },
  {
   "cell_type": "code",
   "execution_count": 8,
   "metadata": {},
   "outputs": [
    {
     "name": "stdout",
     "output_type": "stream",
     "text": [
      "Volume of Sphere 33.49333333333333\n"
     ]
    }
   ],
   "source": [
    "#Print Volume of a Sphere\n",
    "pi = 3.14\n",
    "r = 2\n",
    "vol = 4/3*pi*r**3\n",
    "print(\"Volume of Sphere\",vol)"
   ]
  },
  {
   "cell_type": "markdown",
   "metadata": {},
   "source": [
    "Q6"
   ]
  },
  {
   "cell_type": "code",
   "execution_count": 11,
   "metadata": {},
   "outputs": [
    {
     "name": "stdout",
     "output_type": "stream",
     "text": [
      "Even Numbers are: \n",
      "2 4 6 8 10 12 14 16 18 20 22 24 26 28 30 32 34 36 38 40 42 44 46 48 50 52 54 56 58 60 62 64 66 68 70 72 74 76 78 80 82 84 86 88 90 92 94 96 98 100  \n",
      "\n",
      "Odd Numbers are: \n",
      "1 3 5 7 9 11 13 15 17 19 21 23 25 27 29 31 33 35 37 39 41 43 45 47 49 51 53 55 57 59 61 63 65 67 69 71 73 75 77 79 81 83 85 87 89 91 93 95 97 99 "
     ]
    }
   ],
   "source": [
    "#Print All Odd And Even Numbers Between 1 and 100\n",
    "a = 1\n",
    "print(\"Even Numbers are: \")\n",
    "while(a<=100):\n",
    "    if(a%2 == 0):\n",
    "        print(a,end=' ')\n",
    "    a+=1\n",
    "print(\" \\n\\nOdd Numbers are: \")\n",
    "b = 1\n",
    "while(b<=100):\n",
    "    if(b%2 != 0):\n",
    "        print(b,end=' ')\n",
    "    b+=1    "
   ]
  },
  {
   "cell_type": "markdown",
   "metadata": {},
   "source": [
    "Q7"
   ]
  },
  {
   "cell_type": "code",
   "execution_count": 13,
   "metadata": {},
   "outputs": [
    {
     "ename": "SyntaxError",
     "evalue": "invalid syntax (<ipython-input-13-37e4704646c5>, line 11)",
     "output_type": "error",
     "traceback": [
      "\u001b[1;36m  File \u001b[1;32m\"<ipython-input-13-37e4704646c5>\"\u001b[1;36m, line \u001b[1;32m11\u001b[0m\n\u001b[1;33m    elif d == 0:\u001b[0m\n\u001b[1;37m       ^\u001b[0m\n\u001b[1;31mSyntaxError\u001b[0m\u001b[1;31m:\u001b[0m invalid syntax\n"
     ]
    }
   ],
   "source": [
    "#Printing Roots of a Quadratic Equation\n",
    "a = int(input(\"Enter a: \"))\n",
    "b = int(input(\"Enter b: \"))\n",
    "c = int(input(\"Enter c: \"))\n",
    "import math\n",
    "d = b*b-4*a*c\n",
    "if d>0:\n",
    "    x = (-b+math.sqrt(d))/2*a\n",
    "    y = (-b-math.sqrt(d))/2*a\n",
    "print(\"Real Roots: \",x,y)\n",
    "elif d == 0:\n",
    "    x = -b/2*a\n",
    "print(\"Real and Equal Roots: \",x,y) \n",
    "else:\n",
    "print(\"Imaginary Roots: \")    "
   ]
  },
  {
   "cell_type": "markdown",
   "metadata": {},
   "source": [
    "Q8"
   ]
  },
  {
   "cell_type": "code",
   "execution_count": 14,
   "metadata": {},
   "outputs": [
    {
     "name": "stdout",
     "output_type": "stream",
     "text": [
      "Enter No.: 2343\n",
      "4\n"
     ]
    }
   ],
   "source": [
    "#Count no. of Digits in a Number\n",
    "n = int(input(\"Enter No.: \"))\n",
    "cnt = 0\n",
    "while n>0:\n",
    "    n = n//10\n",
    "    cnt = cnt+1\n",
    "print(cnt)"
   ]
  },
  {
   "cell_type": "markdown",
   "metadata": {},
   "source": [
    "Q9"
   ]
  },
  {
   "cell_type": "code",
   "execution_count": 16,
   "metadata": {},
   "outputs": [
    {
     "name": "stdout",
     "output_type": "stream",
     "text": [
      "Enter p: 3\n",
      "True\n"
     ]
    }
   ],
   "source": [
    "#Checking If Number is Prime or Not\n",
    "p = int(input('Enter p: '))\n",
    "cnt = 0\n",
    "for i in range(2,p+1//2):\n",
    "    if(p%i == 0):\n",
    "        cnt = cnt+1\n",
    "    if(cnt==0):\n",
    "        print('True')\n",
    "    else:\n",
    "        print('False')"
   ]
  },
  {
   "cell_type": "markdown",
   "metadata": {},
   "source": [
    "Q 10"
   ]
  },
  {
   "cell_type": "code",
   "execution_count": null,
   "metadata": {},
   "outputs": [],
   "source": [
    "    "
   ]
  },
  {
   "cell_type": "code",
   "execution_count": 2,
   "metadata": {},
   "outputs": [
    {
     "name": "stdout",
     "output_type": "stream",
     "text": [
      "Enter n: 17\n",
      "Sum=  60\n"
     ]
    }
   ],
   "source": [
    "#WAP that asks for n and prints sum of numbers 1 to n considering multiples of only 3 and 5\n",
    "s = 0\n",
    "i = 0\n",
    "n=int(input('Enter n: '))\n",
    "while (i<n+1):\n",
    "    if(i%3==0)or(i%5==0):\n",
    "        s = s+i\n",
    "    i=i+1\n",
    "print(\"Sum= \",s)    "
   ]
  },
  {
   "cell_type": "markdown",
   "metadata": {},
   "source": [
    "Q 11"
   ]
  },
  {
   "cell_type": "code",
   "execution_count": 1,
   "metadata": {},
   "outputs": [
    {
     "name": "stdout",
     "output_type": "stream",
     "text": [
      "Enter number: 7\n",
      "Please choose computation-sum or product: Sum\n",
      "6\n",
      "1\n"
     ]
    }
   ],
   "source": [
    "#WAP that asks for n and gives possibility to choose between computing sum and product of 1 to n\n",
    "n = int(input(\"Enter number: \"))\n",
    "a = 0\n",
    "b = 1\n",
    "c = input(\"Please choose computation-sum or product: \")\n",
    "for i in range(1,n,1):\n",
    "    if(c==\"Sum\"):\n",
    "        a+=1\n",
    "    elif(c==\"Product\"):\n",
    "        b*=i\n",
    "    else:\n",
    "        print(\"Invalid Input\")\n",
    "print(a)\n",
    "print(b)"
   ]
  },
  {
   "cell_type": "markdown",
   "metadata": {},
   "source": [
    "Q 12"
   ]
  },
  {
   "cell_type": "code",
   "execution_count": 2,
   "metadata": {},
   "outputs": [
    {
     "name": "stdout",
     "output_type": "stream",
     "text": [
      "233168\n"
     ]
    }
   ],
   "source": [
    "#Printing sum of Multiple of 3 and 5 below 1000\n",
    "sum=0\n",
    "for i in range(1000):\n",
    "    if(i%3==0)or(i%5==0):\n",
    "        sum+=i\n",
    "print(sum)        "
   ]
  },
  {
   "cell_type": "markdown",
   "metadata": {},
   "source": [
    "Q 13"
   ]
  },
  {
   "cell_type": "code",
   "execution_count": null,
   "metadata": {},
   "outputs": [],
   "source": [
    "#WAP which will find all such numbers which are divisible by 7 but are not a multiple of 5 between 2000 and 3200\n",
    "s = []\n",
    "for i in range(2000,3201,1)\n",
    "    if(i%7==0)and(i%5!=0):\n",
    "        s.append(i)\n",
    "print(s,end=' ')        "
   ]
  },
  {
   "cell_type": "markdown",
   "metadata": {},
   "source": [
    "Q 14"
   ]
  },
  {
   "cell_type": "code",
   "execution_count": 6,
   "metadata": {},
   "outputs": [
    {
     "name": "stdout",
     "output_type": "stream",
     "text": [
      "25164150\n"
     ]
    }
   ],
   "source": [
    "#WAP to find the Difference between sum of squares of 1 to 100 and square of sum\n",
    "sq=0\n",
    "s=0\n",
    "for i in range(1,101):\n",
    "    a = i**2\n",
    "    sq+=a\n",
    "    s+=i\n",
    "    \n",
    "diff=(s**2)-sq\n",
    "print(diff)"
   ]
  },
  {
   "cell_type": "markdown",
   "metadata": {},
   "source": [
    "Q 15"
   ]
  },
  {
   "cell_type": "code",
   "execution_count": 7,
   "metadata": {},
   "outputs": [
    {
     "name": "stdout",
     "output_type": "stream",
     "text": [
      "8\n",
      "9\n",
      "0\n",
      "7\n",
      "6\n",
      "stop\n",
      "Total: 30\n",
      "Count: 5\n",
      "Average: 6.0\n"
     ]
    }
   ],
   "source": [
    "#\n",
    "s=0\n",
    "c=0\n",
    "n=0\n",
    "while n != 'stop':\n",
    "    try:\n",
    "        n=int(input())\n",
    "        s += n\n",
    "        c += 1\n",
    "    except ValueError:\n",
    "        break\n",
    "print(\"Total: {}\".format(s))\n",
    "print(\"Count: {}\".format(c))\n",
    "try:\n",
    "    avg=s/c\n",
    "except ZeroDivisionError:\n",
    "    avg=0\n",
    "print(\"Average: {}\".format(avg))"
   ]
  },
  {
   "cell_type": "markdown",
   "metadata": {},
   "source": [
    "Q 16"
   ]
  },
  {
   "cell_type": "code",
   "execution_count": 8,
   "metadata": {},
   "outputs": [
    {
     "name": "stdout",
     "output_type": "stream",
     "text": [
      "last no.34\n",
      "2 3 5 7 11 13 17 19 23 29 31 "
     ]
    }
   ],
   "source": [
    "#prime numbers till n\n",
    "n=int(input(\"last no.\"))\n",
    "for i in range(2,n+1):\n",
    "    for a in range(2,i//2+1):\n",
    "        if i%a==0:\n",
    "            break\n",
    "    else:\n",
    "        print(i,end=\" \")"
   ]
  },
  {
   "cell_type": "markdown",
   "metadata": {},
   "source": [
    "Q 17"
   ]
  },
  {
   "cell_type": "code",
   "execution_count": 9,
   "metadata": {},
   "outputs": [
    {
     "name": "stdout",
     "output_type": "stream",
     "text": [
      "7\n",
      "5040\n"
     ]
    }
   ],
   "source": [
    "#WAP which can compute the factorial of a given number.\n",
    "n = int(input())\n",
    "factorial = 1\n",
    "for i in range(1,n+1):\n",
    "    factorial*=i\n",
    "print(factorial)"
   ]
  },
  {
   "cell_type": "markdown",
   "metadata": {},
   "source": [
    "Q 18"
   ]
  },
  {
   "cell_type": "code",
   "execution_count": 10,
   "metadata": {},
   "outputs": [
    {
     "name": "stdout",
     "output_type": "stream",
     "text": [
      "23\n",
      "0 1 1 2 3 5 8 13 21 34 55 89 144 233 377 610 987 1597 2584 4181 6765 10946 17711 "
     ]
    }
   ],
   "source": [
    "#Fibonacci Series\n",
    "num = int(input())\n",
    "p = 1\n",
    "n = 0\n",
    "for i in range(num):\n",
    "    print(n, end = ' ')\n",
    "    p, n= n, n+p"
   ]
  },
  {
   "cell_type": "markdown",
   "metadata": {},
   "source": [
    "Q 19"
   ]
  },
  {
   "cell_type": "code",
   "execution_count": 11,
   "metadata": {},
   "outputs": [
    {
     "name": "stdout",
     "output_type": "stream",
     "text": [
      "Enter the first number:5\n",
      "Enter the second number:25\n",
      "LCM is: 25\n"
     ]
    }
   ],
   "source": [
    "#WAP to find the LCM of two numbers.\n",
    "a=int(input(\"Enter the first number:\"))\n",
    "b=int(input(\"Enter the second number:\"))\n",
    "if(a>b):\n",
    "    num=a\n",
    "else:\n",
    "    num=b\n",
    "while(1):\n",
    "    if(num%a==0 and num%b==0):\n",
    "        print(\"LCM is:\",num)\n",
    "        break\n",
    "    num=num+1"
   ]
  },
  {
   "cell_type": "markdown",
   "metadata": {},
   "source": [
    "Q 20"
   ]
  },
  {
   "cell_type": "code",
   "execution_count": 12,
   "metadata": {},
   "outputs": [
    {
     "name": "stdout",
     "output_type": "stream",
     "text": [
      "number: 63\n",
      "1\n",
      "3\n",
      "7\n",
      "9\n",
      "21\n",
      "63\n"
     ]
    }
   ],
   "source": [
    "#factors of a number\n",
    "num = int(input('number: '))\n",
    "for x in range(1,num+1):\n",
    "    if num%x==0:\n",
    "        print(x)"
   ]
  },
  {
   "cell_type": "markdown",
   "metadata": {},
   "source": [
    "Q 22"
   ]
  },
  {
   "cell_type": "code",
   "execution_count": 13,
   "metadata": {},
   "outputs": [
    {
     "name": "stdout",
     "output_type": "stream",
     "text": [
      "no. u want to add: 4\n",
      "4936\n"
     ]
    }
   ],
   "source": [
    "# Write a program that computes the value of a+aa+aaa+aaaa with a given digit as the value of a. Suppose the following input is supplied to the program: 9, Then, the output should be: 9 + 99 + 999 + 9999 = 11106.\n",
    "a = input('no. u want to add: ')\n",
    "n = 4\n",
    "s = 0\n",
    "for i in range(1, n+1):\n",
    "    s += int(a*i)\n",
    "print(s)"
   ]
  },
  {
   "cell_type": "markdown",
   "metadata": {},
   "source": [
    "Q 21"
   ]
  },
  {
   "cell_type": "code",
   "execution_count": 14,
   "metadata": {},
   "outputs": [
    {
     "name": "stdout",
     "output_type": "stream",
     "text": [
      "* \n",
      "* * \n",
      "* * * \n",
      "* * * * \n",
      "* * * * * \n"
     ]
    }
   ],
   "source": [
    "#Pattern1\n",
    "n=5\n",
    "for i in range(n):\n",
    "    for j in range(0,i+1):\n",
    "        print(\"*\",end =\" \")\n",
    "    print()"
   ]
  },
  {
   "cell_type": "code",
   "execution_count": 15,
   "metadata": {},
   "outputs": [
    {
     "name": "stdout",
     "output_type": "stream",
     "text": [
      "    * \n",
      "   * * \n",
      "  * * * \n",
      " * * * * \n"
     ]
    }
   ],
   "source": [
    "#Pattern4\n",
    "n=4\n",
    "for i in range(1,n+1):\n",
    "    print(' '*(n-i),'* '*i)"
   ]
  },
  {
   "cell_type": "code",
   "execution_count": 16,
   "metadata": {},
   "outputs": [
    {
     "name": "stdout",
     "output_type": "stream",
     "text": [
      "\n",
      "1 \n",
      "2 2 \n",
      "3 3 3 \n",
      "4 4 4 4 \n",
      "5 5 5 5 5 \n"
     ]
    }
   ],
   "source": [
    "#Pattern3\n",
    "n=5\n",
    "for i in range(n+1):\n",
    "    for j in range(1,i+1):\n",
    "        print(i,end =\" \")\n",
    "    print()"
   ]
  },
  {
   "cell_type": "code",
   "execution_count": 17,
   "metadata": {},
   "outputs": [
    {
     "name": "stdout",
     "output_type": "stream",
     "text": [
      "* * * * * * * \n",
      "* * * * * * \n",
      "* * * * * \n",
      "* * * * \n",
      "* * * \n",
      "* * \n",
      "* \n"
     ]
    }
   ],
   "source": [
    "#Pattern2\n",
    "for i in range(7, 0, -1):\n",
    "    print(\"* \"*i)\n"
   ]
  },
  {
   "cell_type": "code",
   "execution_count": 18,
   "metadata": {},
   "outputs": [
    {
     "name": "stdout",
     "output_type": "stream",
     "text": [
      "1 \n",
      "2 3 \n",
      "4 5 6 \n",
      "7 8 9 10 \n",
      "11 12 13 14 15 \n"
     ]
    }
   ],
   "source": [
    "#Pattern5\n",
    "def numpat(n):   \n",
    "    num = 1 \n",
    "    for i in range(0, n): \n",
    "        for j in range(0, i+1): \n",
    "            \n",
    "            print(num, end=\" \") \n",
    "            num = num+1\n",
    "        print()\n",
    "n = 5\n",
    "numpat(n)"
   ]
  },
  {
   "cell_type": "code",
   "execution_count": 19,
   "metadata": {},
   "outputs": [
    {
     "name": "stdout",
     "output_type": "stream",
     "text": [
      "A \n",
      "B C \n",
      "D E F \n",
      "G H I J \n",
      "K L M N O \n"
     ]
    }
   ],
   "source": [
    "#Pattern6\n",
    "def numpat(n):   \n",
    "    num = 65 \n",
    "    for i in range(0, n): \n",
    "        for j in range(0, i+1): \n",
    "            ch=chr(num)\n",
    "            print(ch, end=\" \") \n",
    "            num = num+1\n",
    "        print()\n",
    "n = 5\n",
    "numpat(n)\n"
   ]
  },
  {
   "cell_type": "code",
   "execution_count": null,
   "metadata": {},
   "outputs": [],
   "source": []
  }
 ],
 "metadata": {
  "kernelspec": {
   "display_name": "Python 3",
   "language": "python",
   "name": "python3"
  },
  "language_info": {
   "codemirror_mode": {
    "name": "ipython",
    "version": 3
   },
   "file_extension": ".py",
   "mimetype": "text/x-python",
   "name": "python",
   "nbconvert_exporter": "python",
   "pygments_lexer": "ipython3",
   "version": "3.7.3"
  }
 },
 "nbformat": 4,
 "nbformat_minor": 2
}
